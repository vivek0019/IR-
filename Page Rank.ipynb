{
 "cells": [
  {
   "cell_type": "code",
   "execution_count": 4,
   "id": "207a240e",
   "metadata": {},
   "outputs": [
    {
     "name": "stdout",
     "output_type": "stream",
     "text": [
      "Final PageRank Values:\n",
      "Node 0: 0.2375\n",
      "Node 1: 0.2125\n",
      "Node 2: 0.3375\n",
      "Node 3: 0.4125\n",
      "Node 4: 0.2000\n"
     ]
    }
   ],
   "source": [
    "\n",
    "import networkx as nx\n",
    "\n",
    "\n",
    "def page_rank_iteration(graph, iterations=10):\n",
    "\n",
    "    n = len(graph)\n",
    "    ranks = {node: 1 / n for node in range(n)}\n",
    "    inlinks = {node: [] for node in range(n)}\n",
    "\n",
    "    for node, outlinks in enumerate(graph):\n",
    "        for link in outlinks:\n",
    "            inlinks[link].append(node)\n",
    "\n",
    "    for _ in range(iterations):\n",
    "        new_ranks = {}\n",
    "        for node in range(n):\n",
    "            if node == 4:\n",
    "                new_ranks[node] = 1 / n\n",
    "            else:\n",
    "\n",
    "                new_rank = 0\n",
    "                for inlink in inlinks[node]:\n",
    "                    new_rank += ranks[inlink] / len(graph[inlink])\n",
    "                new_ranks[node] = new_rank\n",
    "        ranks = new_ranks\n",
    "\n",
    "    return ranks\n",
    "\n",
    "graph = [\n",
    "    [1, 2],\n",
    "    [0],\n",
    "    [2, 3],\n",
    "    [1, 0, 2, 3],\n",
    "    [3]\n",
    "]\n",
    "\n",
    "\n",
    "\n",
    "final_ranks = page_rank_iteration(graph, iterations=2)\n",
    "\n",
    "# Output final ranks\n",
    "print(\"Final PageRank Values:\")\n",
    "for node, rank in final_ranks.items():\n",
    "    print(f\"Node {node}: {rank:.4f}\")\n",
    "\n",
    "     "
   ]
  },
  {
   "cell_type": "code",
   "execution_count": null,
   "id": "5cdb75f7",
   "metadata": {},
   "outputs": [],
   "source": []
  }
 ],
 "metadata": {
  "kernelspec": {
   "display_name": "Python 3 (ipykernel)",
   "language": "python",
   "name": "python3"
  },
  "language_info": {
   "codemirror_mode": {
    "name": "ipython",
    "version": 3
   },
   "file_extension": ".py",
   "mimetype": "text/x-python",
   "name": "python",
   "nbconvert_exporter": "python",
   "pygments_lexer": "ipython3",
   "version": "3.9.13"
  }
 },
 "nbformat": 4,
 "nbformat_minor": 5
}
