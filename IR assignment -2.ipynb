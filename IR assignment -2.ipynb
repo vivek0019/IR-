{
 "cells": [
  {
   "cell_type": "code",
   "execution_count": 4,
   "id": "a76f6293",
   "metadata": {},
   "outputs": [],
   "source": [
    "#IR Assignment-2 \n",
    "#comparison between Porter Stemmer and Lovins Stemmer"
   ]
  },
  {
   "cell_type": "code",
   "execution_count": null,
   "id": "5377289e",
   "metadata": {},
   "outputs": [],
   "source": [
    "\n"
   ]
  },
  {
   "cell_type": "code",
   "execution_count": 1,
   "id": "05bfa4fb",
   "metadata": {},
   "outputs": [
    {
     "name": "stdout",
     "output_type": "stream",
     "text": [
      "Original        Porter Stemmer  Lovins Stemmer \n",
      "---------------------------------------------\n",
      "running         run             runn           \n",
      "happiness       happi           happines       \n",
      "and             and             and            \n",
      "loving          love            lov            \n",
      "words           word            word           \n"
     ]
    }
   ],
   "source": [
    "import nltk\n",
    "from nltk.tokenize import word_tokenize\n",
    "from nltk.stem import PorterStemmer\n",
    "import string\n",
    "\n",
    "# Example Lovins stemmer implementation (simplified)\n",
    "class LovinsStemmer:\n",
    "    def stem(self, word):\n",
    "        # Placeholder logic: Lovins stemmer typically removes the longest suffix\n",
    "        # This is a highly simplified example.\n",
    "        suffixes = ['ing', 'ly', 'ed', 'ious', 'ies', 'ive', 'es', 's', 'ment']\n",
    "        for suffix in suffixes:\n",
    "            if word.endswith(suffix):\n",
    "                return word[:len(word)-len(suffix)]\n",
    "        return word\n",
    "\n",
    "# Load your text document\n",
    "text = \"running, happiness, and loving words.\"\n",
    "\n",
    "# Tokenize the text into words\n",
    "tokens = word_tokenize(text)\n",
    "\n",
    "# Filter out punctuation\n",
    "tokens = [token for token in tokens if token not in string.punctuation]\n",
    "\n",
    "# Initialize both stemmers\n",
    "porter_stemmer = PorterStemmer()\n",
    "lovins_stemmer = LovinsStemmer()\n",
    "\n",
    "# Apply both stemmers\n",
    "porter_stemmed_words = [porter_stemmer.stem(token) for token in tokens]\n",
    "lovins_stemmed_words = [lovins_stemmer.stem(token) for token in tokens]\n",
    "\n",
    "# Print comparison side by side\n",
    "print(\"{:<15} {:<15} {:<15}\".format(\"Original\", \"Porter Stemmer\", \"Lovins Stemmer\"))\n",
    "print(\"-\" * 45)\n",
    "for i in range(len(tokens)):\n",
    "    print(\"{:<15} {:<15} {:<15}\".format(tokens[i], porter_stemmed_words[i], lovins_stemmed_words[i]))"
   ]
  },
  {
   "cell_type": "code",
   "execution_count": null,
   "id": "eb0beeb3",
   "metadata": {},
   "outputs": [],
   "source": []
  },
  {
   "cell_type": "code",
   "execution_count": null,
   "id": "9c738e2e",
   "metadata": {},
   "outputs": [],
   "source": []
  },
  {
   "cell_type": "code",
   "execution_count": null,
   "id": "28de95ed",
   "metadata": {},
   "outputs": [],
   "source": []
  },
  {
   "cell_type": "code",
   "execution_count": null,
   "id": "74a695e4",
   "metadata": {},
   "outputs": [],
   "source": []
  },
  {
   "cell_type": "code",
   "execution_count": null,
   "id": "a4fcd942",
   "metadata": {},
   "outputs": [],
   "source": []
  },
  {
   "cell_type": "code",
   "execution_count": null,
   "id": "418a9365",
   "metadata": {},
   "outputs": [],
   "source": []
  },
  {
   "cell_type": "code",
   "execution_count": null,
   "id": "4134beac",
   "metadata": {},
   "outputs": [],
   "source": []
  }
 ],
 "metadata": {
  "kernelspec": {
   "display_name": "Python 3 (ipykernel)",
   "language": "python",
   "name": "python3"
  },
  "language_info": {
   "codemirror_mode": {
    "name": "ipython",
    "version": 3
   },
   "file_extension": ".py",
   "mimetype": "text/x-python",
   "name": "python",
   "nbconvert_exporter": "python",
   "pygments_lexer": "ipython3",
   "version": "3.9.13"
  }
 },
 "nbformat": 4,
 "nbformat_minor": 5
}
