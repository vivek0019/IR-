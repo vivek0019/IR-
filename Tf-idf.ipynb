{
 "cells": [
  {
   "cell_type": "code",
   "execution_count": 13,
   "id": "8214af84",
   "metadata": {},
   "outputs": [
    {
     "name": "stdout",
     "output_type": "stream",
     "text": [
      "\u001b[1mOutput :\u001b[0m\n",
      "\u001b[1mDocument 1:\u001b[0m\n",
      "Calculated cosine similarity for the query and document 1: 0.9940228951262083\n",
      "______________________________________________________________________\n",
      "\u001b[1mDocument 2:\u001b[0m\n",
      "Calculated cosine similarity for the query and document 2: 0.9819493808251631\n",
      "______________________________________________________________________\n",
      "\u001b[1mDocument 3:\u001b[0m\n",
      "Calculated cosine similarity for the query and document 3: 0.9771773768985421\n",
      "______________________________________________________________________\n",
      "\u001b[1mDocument 4:\u001b[0m\n",
      "Calculated cosine similarity for the query and document 4: 0.9980035006919363\n",
      "______________________________________________________________________\n",
      "\u001b[1mDocument 5:\u001b[0m\n",
      "Calculated cosine similarity for the query and document 5: 0.9956803609727208\n",
      "______________________________________________________________________\n"
     ]
    }
   ],
   "source": [
    "import math\n",
    "\n",
    "def calculate_idf(N, df):\n",
    "    return math.log10(N / df)\n",
    "\n",
    "def calculate_idfa(tf):\n",
    "    return 1 + math.log10(tf) if tf > 0 else 1\n",
    "\n",
    "\n",
    "def calculate_tf_idf(tf, idf):\n",
    "    return tf * idf\n",
    "\n",
    "\n",
    "def calculate_norm(weights):\n",
    "    return math.sqrt(sum([w**2 for w in weights]))\n",
    "\n",
    "print(\"\\033[1mOutput :\\033[0m\")\n",
    "\n",
    "# Function to compute cosine similarity\n",
    "def cosine_similarity(query, document, N, df_query):\n",
    "    # Step 1: Calculate IDF for each term\n",
    "    idf_query = {term: calculate_idf(N, df_query.get(term, 1)) for term in query}\n",
    "    idf_document = {term: calculate_idfa(document.get(term, 0)) for term in document}\n",
    "\n",
    "    # Step 2: Calculate TF-IDF for the query and document\n",
    "    tf_idf_query = {term: calculate_tf_idf(query[term], idf_query[term]) for term in query}\n",
    "    # print(f\"tf_idf_query: {tf_idf_query}\")\n",
    "\n",
    "    # Step 3: Normalize the TF-IDF values (Euclidean normalization)\n",
    "    norm_query = calculate_norm(list(tf_idf_query.values()))\n",
    "    norm_document = calculate_norm(list(idf_document.values()))\n",
    "    \n",
    "    normalized_query = {term: tf_idf_query[term] / norm_query for term in tf_idf_query}\n",
    "    normalized_document = {term: idf_document[term] / norm_document for term in idf_document}\n",
    "    \n",
    "    similarity = sum([normalized_query.get(term, 0) * normalized_document.get(term, 0) \n",
    "                      for term in set(query).union(document)])\n",
    "\n",
    "    return similarity\n",
    "\n",
    "query = {'machine': 1, 'learning': 1, 'data': 1}\n",
    "\n",
    "df_query = {'machine': 500, 'learning': 700, 'data': 2000}\n",
    "\n",
    "N = 10000000\n",
    "\n",
    "documents = [\n",
    "    {'machine': 2, 'learning': 3, 'data': 1},\n",
    "    {'machine': 1, 'learning': 0, 'data': 2},\n",
    "    {'machine': 0, 'learning': 2, 'data': 3},\n",
    "    {'machine': 1, 'learning': 1, 'data': 1},\n",
    "    {'machine': 3, 'learning': 2, 'data': 0},\n",
    "]\n",
    "\n",
    "# Compute cosine similarity for each document with the query\n",
    "for i, document in enumerate(documents, start=1):\n",
    "    print(f\"\\033[1mDocument {i}:\\033[0m\")\n",
    "    similarity_score = cosine_similarity(query, document, N, df_query)\n",
    "    print(f\"Calculated cosine similarity for the query and document {i}: {similarity_score}\")\n",
    "    print(\"_\" * 70)\n"
   ]
  },
  {
   "cell_type": "code",
   "execution_count": null,
   "id": "34dc55a6",
   "metadata": {},
   "outputs": [],
   "source": []
  }
 ],
 "metadata": {
  "kernelspec": {
   "display_name": "Python 3 (ipykernel)",
   "language": "python",
   "name": "python3"
  },
  "language_info": {
   "codemirror_mode": {
    "name": "ipython",
    "version": 3
   },
   "file_extension": ".py",
   "mimetype": "text/x-python",
   "name": "python",
   "nbconvert_exporter": "python",
   "pygments_lexer": "ipython3",
   "version": "3.9.13"
  }
 },
 "nbformat": 4,
 "nbformat_minor": 5
}
