{
 "cells": [
  {
   "cell_type": "code",
   "execution_count": 3,
   "id": "4130029e",
   "metadata": {},
   "outputs": [],
   "source": [
    "# IR Assignment -3\n",
    "# levenshtein_edit_distance"
   ]
  },
  {
   "cell_type": "code",
   "execution_count": 2,
   "id": "ccb44730",
   "metadata": {},
   "outputs": [
    {
     "name": "stdout",
     "output_type": "stream",
     "text": [
      "Enter first word  : cats\n",
      "Enter second word : mats\n",
      "The Levenshtein distance between 'cats' and 'mats' is: 1\n"
     ]
    }
   ],
   "source": [
    "def levenshtein_distance(word1, word2):\n",
    "    \n",
    "    m = len(word1)\n",
    "    n = len(word2)\n",
    "    \n",
    "    \n",
    "    dp = [[0 for _ in range(n+1)] for _ in range(m+1)]\n",
    "\n",
    "    \n",
    "    for i in range(m+1):\n",
    "        dp[i][0] = i  \n",
    "    for j in range(n+1):\n",
    "        dp[0][j] = j  \n",
    "\n",
    "    \n",
    "    for i in range(1, m+1):\n",
    "        for j in range(1, n+1):\n",
    "            if word1[i-1] == word2[j-1]:\n",
    "                dp[i][j] = dp[i-1][j-1]  \n",
    "            else:\n",
    "                dp[i][j] = 1 + min(dp[i-1][j],     \n",
    "                                   dp[i][j-1],    \n",
    "                                   dp[i-1][j-1])   \n",
    "\n",
    "   \n",
    "    return dp[m][n]\n",
    "\n",
    "# Example usage\n",
    "word1 = input(\"Enter first word  : \")\n",
    "word2 = input(\"Enter second word : \")\n",
    "distance = levenshtein_distance(word1, word2)\n",
    "print(f\"The Levenshtein distance between '{word1}' and '{word2}' is: {distance}\")"
   ]
  },
  {
   "cell_type": "code",
   "execution_count": null,
   "id": "017173a5",
   "metadata": {},
   "outputs": [],
   "source": []
  }
 ],
 "metadata": {
  "kernelspec": {
   "display_name": "Python 3 (ipykernel)",
   "language": "python",
   "name": "python3"
  },
  "language_info": {
   "codemirror_mode": {
    "name": "ipython",
    "version": 3
   },
   "file_extension": ".py",
   "mimetype": "text/x-python",
   "name": "python",
   "nbconvert_exporter": "python",
   "pygments_lexer": "ipython3",
   "version": "3.9.13"
  }
 },
 "nbformat": 4,
 "nbformat_minor": 5
}
