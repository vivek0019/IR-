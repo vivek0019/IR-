{
 "cells": [
  {
   "cell_type": "code",
   "execution_count": 7,
   "id": "a925a63a",
   "metadata": {},
   "outputs": [
    {
     "name": "stdout",
     "output_type": "stream",
     "text": [
      "Word vectors:\n",
      "Tropical: [0, 1, 1, 0, 0, 1, 1, 1]\n",
      "fish: [0, 0, 0, 0, 1, 0, 0, 1]\n",
      "include: [1, 0, 0, 0, 0, 0, 0, 1]\n",
      "found: [0, 1, 1, 1, 1, 0, 1, 0]\n",
      "in: [1, 1, 0, 1, 1, 1, 1, 1]\n",
      "tropical: [1, 1, 1, 1, 0, 1, 0, 1]\n",
      "environments: [0, 0, 1, 0, 1, 1, 1, 1]\n",
      "around: [1, 0, 0, 1, 0, 1, 0, 1]\n",
      "the: [0, 1, 0, 1, 0, 1, 1, 1]\n",
      "world: [1, 1, 1, 0, 0, 1, 1, 1]\n",
      "including: [1, 1, 0, 0, 0, 1, 1, 0]\n",
      "both: [0, 1, 1, 1, 1, 1, 1, 1]\n",
      "fresh: [0, 0, 1, 1, 1, 0, 0, 1]\n",
      "water: [0, 0, 1, 0, 1, 1, 0, 0]\n",
      "and: [0, 1, 1, 1, 1, 0, 0, 0]\n",
      "salt: [1, 1, 1, 0, 1, 1, 1, 0]\n",
      "species: [1, 0, 1, 1, 0, 0, 1, 0]\n",
      "8-bit SimHash for the document: 01101111\n"
     ]
    }
   ],
   "source": [
    "import hashlib\n",
    "\n",
    "def hash_word(word, num_bits=8):\n",
    "    hash_object = hashlib.md5(word.encode('utf-8'))\n",
    "    \n",
    "    hash_value = int(hash_object.hexdigest(), 16)\n",
    "    \n",
    "    bin_rep = bin(hash_value)[-num_bits:]\n",
    "    \n",
    "    return [int(b) for b in bin_rep.zfill(num_bits)]\n",
    "\n",
    "def simhash(document, num_bits=8):\n",
    "\n",
    "    words = document.split()\n",
    "\n",
    "    hash_vector = [0] * num_bits\n",
    "\n",
    "    word_vectors = {}\n",
    "    \n",
    "    for word in words:\n",
    "        word_hash = hash_word(word, num_bits)\n",
    "      \n",
    "        word_vectors[word] = word_hash\n",
    "        \n",
    "\n",
    "        for i in range(num_bits):\n",
    "            if word_hash[i] == 1:\n",
    "                hash_vector[i] += 1  \n",
    "            else:\n",
    "                hash_vector[i] -= 1 \n",
    "    \n",
    "    simhash_value = ''.join(['1' if hv > 0 else '0' for hv in hash_vector])\n",
    "    \n",
    "    return simhash_value, word_vectors\n",
    "\n",
    "# Example usage\n",
    "document = \"Tropical fish include fish found in tropical environments around the world including both fresh water and salt water species\"\n",
    "simhash_result, word_vectors = simhash(document)\n",
    "\n",
    "print(\"Word vectors:\")\n",
    "for word, vector in word_vectors.items():\n",
    "    print(f\"{word}: {vector}\")\n",
    "print(f\"8-bit SimHash for the document: {simhash_result}\")"
   ]
  },
  {
   "cell_type": "code",
   "execution_count": null,
   "id": "6241b0b4",
   "metadata": {},
   "outputs": [],
   "source": []
  }
 ],
 "metadata": {
  "kernelspec": {
   "display_name": "Python 3 (ipykernel)",
   "language": "python",
   "name": "python3"
  },
  "language_info": {
   "codemirror_mode": {
    "name": "ipython",
    "version": 3
   },
   "file_extension": ".py",
   "mimetype": "text/x-python",
   "name": "python",
   "nbconvert_exporter": "python",
   "pygments_lexer": "ipython3",
   "version": "3.9.13"
  }
 },
 "nbformat": 4,
 "nbformat_minor": 5
}
